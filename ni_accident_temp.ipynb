{
 "cells": [
  {
   "cell_type": "code",
   "execution_count": 1,
   "id": "c9329be5",
   "metadata": {
    "id": "c9329be5"
   },
   "outputs": [],
   "source": [
    "import numpy as np\n",
    "import pandas as pd"
   ]
  },
  {
   "cell_type": "code",
   "execution_count": 7,
   "id": "67fceffe",
   "metadata": {
    "id": "67fceffe"
   },
   "outputs": [],
   "source": [
    "ni_accidents = pd.read_csv('ni_accidents_2021_wgoogle.csv',index_col=0,low_memory=False)"
   ]
  },
  {
   "cell_type": "code",
   "execution_count": 8,
   "id": "9faad732",
   "metadata": {
    "id": "9faad732",
    "outputId": "d27d7d71-7d96-4289-b904-86064e6685cc"
   },
   "outputs": [
    {
     "name": "stdout",
     "output_type": "stream",
     "text": [
      "   a_year  a_ref            a_District                   a_type  a_veh  a_cas  \\\n",
      "0    2016      1   Newry, Mourne, Down  Slight injury collision      1      1   \n",
      "1    2016      2  Derry City, Strabane  Slight injury collision      2      1   \n",
      "2    2016      2  Derry City, Strabane  Slight injury collision      2      1   \n",
      "3    2016      2  Derry City, Strabane  Slight injury collision      2      1   \n",
      "4    2016      2  Derry City, Strabane  Slight injury collision      2      1   \n",
      "\n",
      "  a_wkday  a_day  a_month  a_hour  ...  c_move  c_school  c_pcv c_pedinj  \\\n",
      "0     FRI      1        1       1  ...     NaN     Other    NaN      NaN   \n",
      "1     FRI      1        1       3  ...     NaN       NaN    NaN      NaN   \n",
      "2     FRI      1        1       3  ...     NaN       NaN    NaN      NaN   \n",
      "3     FRI      1        1       3  ...     NaN     Other    NaN      NaN   \n",
      "4     FRI      1        1       3  ...     NaN     Other    NaN      NaN   \n",
      "\n",
      "   c_vtype        lat       lon                                     address  \\\n",
      "0      Car  54.379157 -5.685504  87 Killyleagh Rd, Downpatrick BT30 9UD, UK   \n",
      "1      NaN  55.019106 -7.294136          Foyle Bridge, Londonderry BT48, UK   \n",
      "2      NaN  55.019106 -7.294136          Foyle Bridge, Londonderry BT48, UK   \n",
      "3      Car  55.019106 -7.294136          Foyle Bridge, Londonderry BT48, UK   \n",
      "4      Car  55.019106 -7.294136          Foyle Bridge, Londonderry BT48, UK   \n",
      "\n",
      "  postcodes                                     location_infos  \n",
      "0  BT30 9UD  ['street_address', 'establishment', 'point_of_...  \n",
      "1      BT48  ['route', 'plus_code', 'premise', 'street_addr...  \n",
      "2      BT48  ['route', 'plus_code', 'premise', 'street_addr...  \n",
      "3      BT48  ['route', 'plus_code', 'premise', 'street_addr...  \n",
      "4      BT48  ['route', 'plus_code', 'premise', 'street_addr...  \n",
      "\n",
      "[5 rows x 56 columns]\n"
     ]
    }
   ],
   "source": [
    "ni_accidents.head()"
   ]
  },
  {
   "cell_type": "code",
   "execution_count": 9,
   "id": "8e97153f",
   "metadata": {
    "id": "8e97153f",
    "outputId": "103f7c6d-a1e1-4a22-df3f-2d680ab52060"
   },
   "outputs": [
    {
     "data": {
      "text/plain": [
       "(71964, 56)"
      ]
     },
     "execution_count": 9,
     "metadata": {},
     "output_type": "execute_result"
    }
   ],
   "source": [
    "ni_accidents.shape"
   ]
  },
  {
   "cell_type": "code",
   "execution_count": 10,
   "id": "0316f4d3",
   "metadata": {},
   "outputs": [
    {
     "data": {
      "text/plain": [
       "Index(['a_year', 'a_ref', 'a_District', 'a_type', 'a_veh', 'a_cas', 'a_wkday',\n",
       "       'a_day', 'a_month', 'a_hour', 'a_min', 'a_gd1', 'a_gd2', 'a_ctype',\n",
       "       'a_speed', 'a_jdet', 'a_jcont', 'a_pedhum', 'a_pedphys', 'a_light',\n",
       "       'a_weat', 'a_roadsc', 'a_speccs', 'a_chaz', 'a_scene', 'v_id', 'v_type',\n",
       "       'v_tow', 'v_man', 'v_loc', 'v_junc', 'v_skid', 'v_hit', 'v_leave',\n",
       "       'v_hitoff', 'v_impact', 'v_sex', 'v_agegroup', 'v_hitr', 'v_forreg',\n",
       "       'c_id', 'c_class', 'c_sex', 'c_agegroup', 'c_sever', 'c_loc', 'c_move',\n",
       "       'c_school', 'c_pcv', 'c_pedinj', 'c_vtype', 'lat', 'lon', 'address',\n",
       "       'postcodes', 'location_infos'],\n",
       "      dtype='object')"
      ]
     },
     "execution_count": 10,
     "metadata": {},
     "output_type": "execute_result"
    }
   ],
   "source": [
    "ni_accidents.columns"
   ]
  },
  {
   "cell_type": "markdown",
   "id": "fb1ab1f9",
   "metadata": {},
   "source": [
    "Data contains PSNI data:\n",
    "- a_X data Collision Data\n",
    "- v_X data Vehicle Data\n",
    "- c_X data Casualty Data\n",
    "\n",
    "Additonal data added:\n",
    "- lat, lon derived from a_gd1 and a_gd2\n",
    "- address and postcodes geocoded from latitude and longitude using Google Maps API\n",
    "- location_infos which are location tags based on the latitude and longitude used by google maps to give additional information on the area e.g. road, residental premises, tourist attraction, public space"
   ]
  },
  {
   "cell_type": "markdown",
   "id": "5ea8daf5",
   "metadata": {},
   "source": [
    "### Project Object: \n",
    "build a model to predict who are more likely to be involved in accidents and who is most likely injured in a car accident -- traffic injuries severity\n",
    "\n",
    "Response Variable: \n",
    "**a_type** -- Slight injury collision / Serious injury collision / Fatal injury collision "
   ]
  },
  {
   "cell_type": "code",
   "execution_count": 52,
   "id": "1716e1bb",
   "metadata": {},
   "outputs": [],
   "source": [
    "# get fist 1% data to try, first 720 rows.\n",
    "accidents_720  = ni_accidents.iloc[:720]\n",
    "# accidents_720"
   ]
  },
  {
   "cell_type": "code",
   "execution_count": 37,
   "id": "ee3d9a90",
   "metadata": {},
   "outputs": [],
   "source": [
    "postcodes = accidents_720[\"postcodes\"]"
   ]
  },
  {
   "cell_type": "markdown",
   "id": "400ede37",
   "metadata": {},
   "source": [
    "We now wanna create a new column and saves the first part of postcode, for example: BT30 of BT30 9UD, each BT~ represents an area of belfast. The whole postcode is a little specific for model, and just the first part will be easier to build a model on. "
   ]
  },
  {
   "cell_type": "code",
   "execution_count": 49,
   "id": "f355429a",
   "metadata": {},
   "outputs": [
    {
     "name": "stderr",
     "output_type": "stream",
     "text": [
      "c:\\Temp\\ipykernel_10676\\2112690208.py:2: SettingWithCopyWarning: \n",
      "A value is trying to be set on a copy of a slice from a DataFrame.\n",
      "Try using .loc[row_indexer,col_indexer] = value instead\n",
      "\n",
      "See the caveats in the documentation: https://pandas.pydata.org/pandas-docs/stable/user_guide/indexing.html#returning-a-view-versus-a-copy\n",
      "  accidents_720[\"postcodes_first4\"] = accidents_720[\"postcodes\"].apply(lambda x:x[:4])\n"
     ]
    }
   ],
   "source": [
    "accidents_720[\"postcodes_first4\"] = accidents_720[\"postcodes\"].apply(lambda x:x[:4])"
   ]
  },
  {
   "cell_type": "code",
   "execution_count": 55,
   "id": "1f5ff4ae",
   "metadata": {},
   "outputs": [
    {
     "data": {
      "text/html": [
       "<div>\n",
       "<style scoped>\n",
       "    .dataframe tbody tr th:only-of-type {\n",
       "        vertical-align: middle;\n",
       "    }\n",
       "\n",
       "    .dataframe tbody tr th {\n",
       "        vertical-align: top;\n",
       "    }\n",
       "\n",
       "    .dataframe thead th {\n",
       "        text-align: right;\n",
       "    }\n",
       "</style>\n",
       "<table border=\"1\" class=\"dataframe\">\n",
       "  <thead>\n",
       "    <tr style=\"text-align: right;\">\n",
       "      <th></th>\n",
       "      <th>a_year</th>\n",
       "      <th>a_ref</th>\n",
       "      <th>a_District</th>\n",
       "      <th>a_type</th>\n",
       "      <th>a_veh</th>\n",
       "      <th>a_cas</th>\n",
       "      <th>a_wkday</th>\n",
       "      <th>a_day</th>\n",
       "      <th>a_month</th>\n",
       "      <th>a_hour</th>\n",
       "      <th>...</th>\n",
       "      <th>c_school</th>\n",
       "      <th>c_pcv</th>\n",
       "      <th>c_pedinj</th>\n",
       "      <th>c_vtype</th>\n",
       "      <th>lat</th>\n",
       "      <th>lon</th>\n",
       "      <th>address</th>\n",
       "      <th>postcodes</th>\n",
       "      <th>location_infos</th>\n",
       "      <th>postcodes_first4</th>\n",
       "    </tr>\n",
       "  </thead>\n",
       "  <tbody>\n",
       "    <tr>\n",
       "      <th>0</th>\n",
       "      <td>2016</td>\n",
       "      <td>1</td>\n",
       "      <td>Newry, Mourne, Down</td>\n",
       "      <td>Slight injury collision</td>\n",
       "      <td>1</td>\n",
       "      <td>1</td>\n",
       "      <td>FRI</td>\n",
       "      <td>1</td>\n",
       "      <td>1</td>\n",
       "      <td>1</td>\n",
       "      <td>...</td>\n",
       "      <td>Other</td>\n",
       "      <td>NaN</td>\n",
       "      <td>NaN</td>\n",
       "      <td>Car</td>\n",
       "      <td>54.379157</td>\n",
       "      <td>-5.685504</td>\n",
       "      <td>87 Killyleagh Rd, Downpatrick BT30 9UD, UK</td>\n",
       "      <td>BT30 9UD</td>\n",
       "      <td>['street_address', 'establishment', 'point_of_...</td>\n",
       "      <td>BT30</td>\n",
       "    </tr>\n",
       "    <tr>\n",
       "      <th>1</th>\n",
       "      <td>2016</td>\n",
       "      <td>2</td>\n",
       "      <td>Derry City, Strabane</td>\n",
       "      <td>Slight injury collision</td>\n",
       "      <td>2</td>\n",
       "      <td>1</td>\n",
       "      <td>FRI</td>\n",
       "      <td>1</td>\n",
       "      <td>1</td>\n",
       "      <td>3</td>\n",
       "      <td>...</td>\n",
       "      <td>NaN</td>\n",
       "      <td>NaN</td>\n",
       "      <td>NaN</td>\n",
       "      <td>NaN</td>\n",
       "      <td>55.019106</td>\n",
       "      <td>-7.294136</td>\n",
       "      <td>Foyle Bridge, Londonderry BT48, UK</td>\n",
       "      <td>BT48</td>\n",
       "      <td>['route', 'plus_code', 'premise', 'street_addr...</td>\n",
       "      <td>BT48</td>\n",
       "    </tr>\n",
       "    <tr>\n",
       "      <th>2</th>\n",
       "      <td>2016</td>\n",
       "      <td>2</td>\n",
       "      <td>Derry City, Strabane</td>\n",
       "      <td>Slight injury collision</td>\n",
       "      <td>2</td>\n",
       "      <td>1</td>\n",
       "      <td>FRI</td>\n",
       "      <td>1</td>\n",
       "      <td>1</td>\n",
       "      <td>3</td>\n",
       "      <td>...</td>\n",
       "      <td>NaN</td>\n",
       "      <td>NaN</td>\n",
       "      <td>NaN</td>\n",
       "      <td>NaN</td>\n",
       "      <td>55.019106</td>\n",
       "      <td>-7.294136</td>\n",
       "      <td>Foyle Bridge, Londonderry BT48, UK</td>\n",
       "      <td>BT48</td>\n",
       "      <td>['route', 'plus_code', 'premise', 'street_addr...</td>\n",
       "      <td>BT48</td>\n",
       "    </tr>\n",
       "    <tr>\n",
       "      <th>3</th>\n",
       "      <td>2016</td>\n",
       "      <td>2</td>\n",
       "      <td>Derry City, Strabane</td>\n",
       "      <td>Slight injury collision</td>\n",
       "      <td>2</td>\n",
       "      <td>1</td>\n",
       "      <td>FRI</td>\n",
       "      <td>1</td>\n",
       "      <td>1</td>\n",
       "      <td>3</td>\n",
       "      <td>...</td>\n",
       "      <td>Other</td>\n",
       "      <td>NaN</td>\n",
       "      <td>NaN</td>\n",
       "      <td>Car</td>\n",
       "      <td>55.019106</td>\n",
       "      <td>-7.294136</td>\n",
       "      <td>Foyle Bridge, Londonderry BT48, UK</td>\n",
       "      <td>BT48</td>\n",
       "      <td>['route', 'plus_code', 'premise', 'street_addr...</td>\n",
       "      <td>BT48</td>\n",
       "    </tr>\n",
       "    <tr>\n",
       "      <th>4</th>\n",
       "      <td>2016</td>\n",
       "      <td>2</td>\n",
       "      <td>Derry City, Strabane</td>\n",
       "      <td>Slight injury collision</td>\n",
       "      <td>2</td>\n",
       "      <td>1</td>\n",
       "      <td>FRI</td>\n",
       "      <td>1</td>\n",
       "      <td>1</td>\n",
       "      <td>3</td>\n",
       "      <td>...</td>\n",
       "      <td>Other</td>\n",
       "      <td>NaN</td>\n",
       "      <td>NaN</td>\n",
       "      <td>Car</td>\n",
       "      <td>55.019106</td>\n",
       "      <td>-7.294136</td>\n",
       "      <td>Foyle Bridge, Londonderry BT48, UK</td>\n",
       "      <td>BT48</td>\n",
       "      <td>['route', 'plus_code', 'premise', 'street_addr...</td>\n",
       "      <td>BT48</td>\n",
       "    </tr>\n",
       "  </tbody>\n",
       "</table>\n",
       "<p>5 rows × 57 columns</p>\n",
       "</div>"
      ],
      "text/plain": [
       "   a_year  a_ref            a_District                   a_type  a_veh  a_cas  \\\n",
       "0    2016      1   Newry, Mourne, Down  Slight injury collision      1      1   \n",
       "1    2016      2  Derry City, Strabane  Slight injury collision      2      1   \n",
       "2    2016      2  Derry City, Strabane  Slight injury collision      2      1   \n",
       "3    2016      2  Derry City, Strabane  Slight injury collision      2      1   \n",
       "4    2016      2  Derry City, Strabane  Slight injury collision      2      1   \n",
       "\n",
       "  a_wkday  a_day  a_month  a_hour  ...  c_school  c_pcv  c_pedinj c_vtype  \\\n",
       "0     FRI      1        1       1  ...     Other    NaN       NaN     Car   \n",
       "1     FRI      1        1       3  ...       NaN    NaN       NaN     NaN   \n",
       "2     FRI      1        1       3  ...       NaN    NaN       NaN     NaN   \n",
       "3     FRI      1        1       3  ...     Other    NaN       NaN     Car   \n",
       "4     FRI      1        1       3  ...     Other    NaN       NaN     Car   \n",
       "\n",
       "         lat       lon                                     address postcodes  \\\n",
       "0  54.379157 -5.685504  87 Killyleagh Rd, Downpatrick BT30 9UD, UK  BT30 9UD   \n",
       "1  55.019106 -7.294136          Foyle Bridge, Londonderry BT48, UK      BT48   \n",
       "2  55.019106 -7.294136          Foyle Bridge, Londonderry BT48, UK      BT48   \n",
       "3  55.019106 -7.294136          Foyle Bridge, Londonderry BT48, UK      BT48   \n",
       "4  55.019106 -7.294136          Foyle Bridge, Londonderry BT48, UK      BT48   \n",
       "\n",
       "                                      location_infos postcodes_first4  \n",
       "0  ['street_address', 'establishment', 'point_of_...             BT30  \n",
       "1  ['route', 'plus_code', 'premise', 'street_addr...             BT48  \n",
       "2  ['route', 'plus_code', 'premise', 'street_addr...             BT48  \n",
       "3  ['route', 'plus_code', 'premise', 'street_addr...             BT48  \n",
       "4  ['route', 'plus_code', 'premise', 'street_addr...             BT48  \n",
       "\n",
       "[5 rows x 57 columns]"
      ]
     },
     "execution_count": 55,
     "metadata": {},
     "output_type": "execute_result"
    }
   ],
   "source": [
    "accidents_720.head()"
   ]
  },
  {
   "cell_type": "code",
   "execution_count": null,
   "id": "d0e43a0b",
   "metadata": {},
   "outputs": [],
   "source": []
  }
 ],
 "metadata": {
  "colab": {
   "provenance": []
  },
  "kernelspec": {
   "display_name": "Python 3 (ipykernel)",
   "language": "python",
   "name": "python3"
  },
  "language_info": {
   "codemirror_mode": {
    "name": "ipython",
    "version": 3
   },
   "file_extension": ".py",
   "mimetype": "text/x-python",
   "name": "python",
   "nbconvert_exporter": "python",
   "pygments_lexer": "ipython3",
   "version": "3.9.12"
  }
 },
 "nbformat": 4,
 "nbformat_minor": 5
}
