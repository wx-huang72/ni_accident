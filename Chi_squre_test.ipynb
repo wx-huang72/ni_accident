{
  "cells": [
    {
      "cell_type": "markdown",
      "id": "812f6e85",
      "metadata": {
        "id": "812f6e85"
      },
      "source": [
        "# Build a random forest model"
      ]
    },
    {
      "cell_type": "markdown",
      "id": "629b64ac",
      "metadata": {
        "id": "629b64ac"
      },
      "source": [
        "## Importing and exploration"
      ]
    },
    {
      "cell_type": "code",
      "execution_count": null,
      "id": "216bbf33",
      "metadata": {
        "id": "216bbf33"
      },
      "outputs": [],
      "source": [
        "# pip install -U scikit-learn scipy matplotlib\n",
        "# pip install lime\n",
        "# pip install shap\n",
        "# pip install numpy==1.21.4\n",
        "# pip install numba==0.53.0\n",
        "# pip install librosa\n",
        "# pip install imbalanced-learn\n",
        "\n",
        "\n",
        "# Feature engineering and build models\n",
        "# Proportion of each injured age group depending on class\n",
        "# Get familiar with PSNI dataset"
      ]
    },
    {
      "cell_type": "code",
      "execution_count": null,
      "id": "aff0a50f",
      "metadata": {
        "id": "aff0a50f",
        "outputId": "3166c100-8349-4a94-8ce0-ff81e2586616"
      },
      "outputs": [
        {
          "name": "stderr",
          "output_type": "stream",
          "text": [
            "IProgress not found. Please update jupyter and ipywidgets. See https://ipywidgets.readthedocs.io/en/stable/user_install.html\n"
          ]
        }
      ],
      "source": [
        "import pandas as pd\n",
        "import numpy as np\n",
        "from operator import itemgetter\n",
        "import matplotlib.pyplot as plt\n",
        "from sklearn.ensemble import RandomForestClassifier\n",
        "from sklearn.metrics import confusion_matrix, f1_score, accuracy_score,roc_auc_score, roc_curve\n",
        "from sklearn import preprocessing\n",
        "import seaborn as sns\n",
        "from scipy.stats import chi2_contingency\n",
        "import lime\n",
        "from lime import lime_tabular\n",
        "import shap"
      ]
    },
    {
      "cell_type": "code",
      "execution_count": null,
      "id": "5a5c142e",
      "metadata": {
        "id": "5a5c142e"
      },
      "outputs": [],
      "source": [
        "# import dataset\n",
        "ni_accidents = pd.read_csv('ni_accidents_2021_wgoogle.csv',index_col=0,low_memory=False)\n",
        "updated_lats_longs = pd.read_csv(\"updated_lat_longs.csv\", index_col = 0)"
      ]
    },
    {
      "cell_type": "code",
      "execution_count": null,
      "id": "7fe90d99",
      "metadata": {
        "id": "7fe90d99"
      },
      "outputs": [],
      "source": [
        "# join two datasets together\n",
        "updated_ni_accidents = pd.merge(ni_accidents, updated_lats_longs, how = \"left\",left_on=['lat','lon'], right_on = ['lats','longs'])\n",
        "updated_ni_accidents[[\"address_x\", \"postcodes_x\",\"location_infos_x\"]] = np.where(updated_ni_accidents[[\"address_y\", \"postcodes_y\",\"location_infos_y\"]].isna(), updated_ni_accidents[[\"address_x\", \"postcodes_x\",\"location_infos_x\"]], updated_ni_accidents[[\"address_y\",\"postcodes_y\",\"location_infos_y\"]])\n",
        "updated_ni_accidents.drop(updated_ni_accidents.iloc[:, -5:], inplace = True, axis = 1)\n",
        "updated_ni_accidents = updated_ni_accidents.rename(columns={\"address_x\": \"address\", \"postcodes_x\": \"postcodes\",\"location_infos_x\":\"location_infos\"})"
      ]
    },
    {
      "cell_type": "code",
      "execution_count": null,
      "id": "7c62f5cd",
      "metadata": {
        "id": "7c62f5cd"
      },
      "outputs": [],
      "source": [
        "# drop duplicates\n",
        "ni_accidents_removed = updated_ni_accidents.drop_duplicates()"
      ]
    },
    {
      "cell_type": "code",
      "execution_count": null,
      "id": "5b62ea77",
      "metadata": {
        "id": "5b62ea77",
        "outputId": "d4cae1c2-7a40-4048-c182-3ee41b8bbd76"
      },
      "outputs": [
        {
          "name": "stderr",
          "output_type": "stream",
          "text": [
            "\n",
            "A value is trying to be set on a copy of a slice from a DataFrame\n",
            "\n",
            "See the caveats in the documentation: https://pandas.pydata.org/pandas-docs/stable/user_guide/indexing.html#returning-a-view-versus-a-copy\n"
          ]
        }
      ],
      "source": [
        "# drop columns that have too may missing values\n",
        "nans = pd.DataFrame()\n",
        "nans[\"num\"] = ni_accidents_removed.isnull().sum()\n",
        "nans[\"percent(%)\"] = (nans[\"num\"]/ni_accidents_removed.shape[0])*100\n",
        "row_names = nans[nans[\"percent(%)\"]>50].index\n",
        "ni_accidents_removed.drop(row_names, inplace = True, axis = 1)"
      ]
    },
    {
      "cell_type": "code",
      "execution_count": null,
      "id": "eea78dc4",
      "metadata": {
        "id": "eea78dc4",
        "outputId": "0168dd5d-ef33-4e7f-d666-bed7f0e2b4fe"
      },
      "outputs": [
        {
          "data": {
            "text/plain": [
              "(71647, 36)"
            ]
          },
          "execution_count": 6,
          "metadata": {},
          "output_type": "execute_result"
        }
      ],
      "source": [
        "ni_accidents_removed.shape"
      ]
    },
    {
      "cell_type": "code",
      "execution_count": null,
      "id": "725ea815",
      "metadata": {
        "id": "725ea815",
        "outputId": "f5b4e0f7-c750-47e8-cc6f-33d74f7319bd"
      },
      "outputs": [
        {
          "data": {
            "text/html": [
              "<div>\n",
              "<style scoped>\n",
              "    .dataframe tbody tr th:only-of-type {\n",
              "        vertical-align: middle;\n",
              "    }\n",
              "\n",
              "    .dataframe tbody tr th {\n",
              "        vertical-align: top;\n",
              "    }\n",
              "\n",
              "    .dataframe thead th {\n",
              "        text-align: right;\n",
              "    }\n",
              "</style>\n",
              "<table border=\"1\" class=\"dataframe\">\n",
              "  <thead>\n",
              "    <tr style=\"text-align: right;\">\n",
              "      <th></th>\n",
              "      <th>a_year</th>\n",
              "      <th>a_ref</th>\n",
              "      <th>a_District</th>\n",
              "      <th>a_type</th>\n",
              "      <th>a_veh</th>\n",
              "      <th>a_cas</th>\n",
              "      <th>a_wkday</th>\n",
              "      <th>a_day</th>\n",
              "      <th>a_month</th>\n",
              "      <th>a_hour</th>\n",
              "      <th>...</th>\n",
              "      <th>c_sex</th>\n",
              "      <th>c_agegroup</th>\n",
              "      <th>c_sever</th>\n",
              "      <th>c_school</th>\n",
              "      <th>c_vtype</th>\n",
              "      <th>lat</th>\n",
              "      <th>lon</th>\n",
              "      <th>address</th>\n",
              "      <th>postcodes</th>\n",
              "      <th>location_infos</th>\n",
              "    </tr>\n",
              "  </thead>\n",
              "  <tbody>\n",
              "    <tr>\n",
              "      <th>0</th>\n",
              "      <td>2016</td>\n",
              "      <td>1</td>\n",
              "      <td>Newry, Mourne, Down</td>\n",
              "      <td>Slight injury collision</td>\n",
              "      <td>1</td>\n",
              "      <td>1</td>\n",
              "      <td>FRI</td>\n",
              "      <td>1</td>\n",
              "      <td>1</td>\n",
              "      <td>1</td>\n",
              "      <td>...</td>\n",
              "      <td>Female</td>\n",
              "      <td>17-24</td>\n",
              "      <td>Slightly injured</td>\n",
              "      <td>Other</td>\n",
              "      <td>Car</td>\n",
              "      <td>54.379157</td>\n",
              "      <td>-5.685504</td>\n",
              "      <td>87 Killyleagh Rd, Downpatrick BT30 9UD, UK</td>\n",
              "      <td>BT30 9UD</td>\n",
              "      <td>['street_address', 'establishment', 'point_of_...</td>\n",
              "    </tr>\n",
              "    <tr>\n",
              "      <th>1</th>\n",
              "      <td>2016</td>\n",
              "      <td>2</td>\n",
              "      <td>Derry City, Strabane</td>\n",
              "      <td>Slight injury collision</td>\n",
              "      <td>2</td>\n",
              "      <td>1</td>\n",
              "      <td>FRI</td>\n",
              "      <td>1</td>\n",
              "      <td>1</td>\n",
              "      <td>3</td>\n",
              "      <td>...</td>\n",
              "      <td>NaN</td>\n",
              "      <td>NaN</td>\n",
              "      <td>NaN</td>\n",
              "      <td>NaN</td>\n",
              "      <td>NaN</td>\n",
              "      <td>55.019106</td>\n",
              "      <td>-7.294136</td>\n",
              "      <td>Foyle Bridge, Londonderry BT48, UK</td>\n",
              "      <td>BT48</td>\n",
              "      <td>['route', 'plus_code', 'premise', 'street_addr...</td>\n",
              "    </tr>\n",
              "    <tr>\n",
              "      <th>3</th>\n",
              "      <td>2016</td>\n",
              "      <td>2</td>\n",
              "      <td>Derry City, Strabane</td>\n",
              "      <td>Slight injury collision</td>\n",
              "      <td>2</td>\n",
              "      <td>1</td>\n",
              "      <td>FRI</td>\n",
              "      <td>1</td>\n",
              "      <td>1</td>\n",
              "      <td>3</td>\n",
              "      <td>...</td>\n",
              "      <td>Female</td>\n",
              "      <td>35-44</td>\n",
              "      <td>Slightly injured</td>\n",
              "      <td>Other</td>\n",
              "      <td>Car</td>\n",
              "      <td>55.019106</td>\n",
              "      <td>-7.294136</td>\n",
              "      <td>Foyle Bridge, Londonderry BT48, UK</td>\n",
              "      <td>BT48</td>\n",
              "      <td>['route', 'plus_code', 'premise', 'street_addr...</td>\n",
              "    </tr>\n",
              "    <tr>\n",
              "      <th>5</th>\n",
              "      <td>2016</td>\n",
              "      <td>3</td>\n",
              "      <td>Ards, North Down</td>\n",
              "      <td>Serious injury collision</td>\n",
              "      <td>1</td>\n",
              "      <td>1</td>\n",
              "      <td>FRI</td>\n",
              "      <td>1</td>\n",
              "      <td>1</td>\n",
              "      <td>3</td>\n",
              "      <td>...</td>\n",
              "      <td>Male</td>\n",
              "      <td>35-44</td>\n",
              "      <td>Seriously injured</td>\n",
              "      <td>Other</td>\n",
              "      <td>Car</td>\n",
              "      <td>54.476645</td>\n",
              "      <td>-5.692128</td>\n",
              "      <td>28 Comber Rd, Killinchy, Newtownards BT23 6PB, UK</td>\n",
              "      <td>BT23 6PB</td>\n",
              "      <td>['premise', 'street_address', 'establishment',...</td>\n",
              "    </tr>\n",
              "    <tr>\n",
              "      <th>7</th>\n",
              "      <td>2016</td>\n",
              "      <td>4</td>\n",
              "      <td>Belfast City</td>\n",
              "      <td>Slight injury collision</td>\n",
              "      <td>2</td>\n",
              "      <td>2</td>\n",
              "      <td>FRI</td>\n",
              "      <td>1</td>\n",
              "      <td>1</td>\n",
              "      <td>3</td>\n",
              "      <td>...</td>\n",
              "      <td>NaN</td>\n",
              "      <td>NaN</td>\n",
              "      <td>NaN</td>\n",
              "      <td>NaN</td>\n",
              "      <td>NaN</td>\n",
              "      <td>54.593451</td>\n",
              "      <td>-5.887517</td>\n",
              "      <td>8/367 Beersbridge Rd, Belfast BT5 5EF, UK</td>\n",
              "      <td>BT5 5EF</td>\n",
              "      <td>['premise', 'establishment', 'health', 'point_...</td>\n",
              "    </tr>\n",
              "  </tbody>\n",
              "</table>\n",
              "<p>5 rows × 36 columns</p>\n",
              "</div>"
            ],
            "text/plain": [
              "   a_year  a_ref            a_District                    a_type  a_veh  \\\n",
              "0    2016      1   Newry, Mourne, Down   Slight injury collision      1   \n",
              "1    2016      2  Derry City, Strabane   Slight injury collision      2   \n",
              "3    2016      2  Derry City, Strabane   Slight injury collision      2   \n",
              "5    2016      3      Ards, North Down  Serious injury collision      1   \n",
              "7    2016      4          Belfast City   Slight injury collision      2   \n",
              "\n",
              "   a_cas a_wkday  a_day  a_month  a_hour  ...   c_sex  c_agegroup  \\\n",
              "0      1     FRI      1        1       1  ...  Female       17-24   \n",
              "1      1     FRI      1        1       3  ...     NaN         NaN   \n",
              "3      1     FRI      1        1       3  ...  Female       35-44   \n",
              "5      1     FRI      1        1       3  ...    Male       35-44   \n",
              "7      2     FRI      1        1       3  ...     NaN         NaN   \n",
              "\n",
              "             c_sever c_school  c_vtype        lat       lon  \\\n",
              "0   Slightly injured    Other      Car  54.379157 -5.685504   \n",
              "1                NaN      NaN      NaN  55.019106 -7.294136   \n",
              "3   Slightly injured    Other      Car  55.019106 -7.294136   \n",
              "5  Seriously injured    Other      Car  54.476645 -5.692128   \n",
              "7                NaN      NaN      NaN  54.593451 -5.887517   \n",
              "\n",
              "                                             address postcodes  \\\n",
              "0         87 Killyleagh Rd, Downpatrick BT30 9UD, UK  BT30 9UD   \n",
              "1                 Foyle Bridge, Londonderry BT48, UK      BT48   \n",
              "3                 Foyle Bridge, Londonderry BT48, UK      BT48   \n",
              "5  28 Comber Rd, Killinchy, Newtownards BT23 6PB, UK  BT23 6PB   \n",
              "7          8/367 Beersbridge Rd, Belfast BT5 5EF, UK   BT5 5EF   \n",
              "\n",
              "                                      location_infos  \n",
              "0  ['street_address', 'establishment', 'point_of_...  \n",
              "1  ['route', 'plus_code', 'premise', 'street_addr...  \n",
              "3  ['route', 'plus_code', 'premise', 'street_addr...  \n",
              "5  ['premise', 'street_address', 'establishment',...  \n",
              "7  ['premise', 'establishment', 'health', 'point_...  \n",
              "\n",
              "[5 rows x 36 columns]"
            ]
          },
          "execution_count": 7,
          "metadata": {},
          "output_type": "execute_result"
        }
      ],
      "source": [
        "ni_accidents_removed.head()"
      ]
    },
    {
      "cell_type": "markdown",
      "id": "ad0e856b",
      "metadata": {
        "id": "ad0e856b"
      },
      "source": [
        "## Deal with missing value"
      ]
    },
    {
      "cell_type": "code",
      "execution_count": null,
      "id": "a7019793",
      "metadata": {
        "id": "a7019793"
      },
      "outputs": [],
      "source": [
        "# ni_accidents_removed.isnull().sum()\n",
        "ni_accidents_removed = ni_accidents_removed.drop([\"a_gd1\", \"a_gd2\",\"lat\", \"lon\",\"v_id\", \"c_id\",\"a_min\",\"c_school\",\"v_tow\"], axis = 1)"
      ]
    },
    {
      "cell_type": "code",
      "execution_count": null,
      "id": "33aae291",
      "metadata": {
        "id": "33aae291"
      },
      "outputs": [],
      "source": [
        "# ni_accidents_removed[\"v_type\"]\n",
        "\n",
        "# ni_accidents_removed[ni_accidents_removed[\"v_tow\"].isna()]\n",
        "\n",
        "# ni_accidents_removed.isnull().sum()\n",
        "# df_del_rows = df_del_rows[df_del_rows['maker'].notna()]\n",
        "# ni_accidents_removed[\"v_sex\"].mode()\n",
        "# df_replace_mode[\"maker\"].fillna(replace_with,inplace=True)"
      ]
    },
    {
      "cell_type": "code",
      "execution_count": null,
      "id": "10ad3e92",
      "metadata": {
        "id": "10ad3e92"
      },
      "outputs": [],
      "source": [
        "ni_accidents_removed = ni_accidents_removed[ni_accidents_removed[\"v_type\"].notna()]\n",
        "# df_del_rows = df_del_rows[df_del_rows['maker'].notna()]\n"
      ]
    },
    {
      "cell_type": "code",
      "execution_count": null,
      "id": "1c36c8be",
      "metadata": {
        "id": "1c36c8be"
      },
      "outputs": [],
      "source": [
        "# ni_accidents_removed[\"v_man\"] = ni_accidents_removed[\"v_man\"].fillna(\"Going ahead other\")\n",
        "ni_accidents_removed = ni_accidents_removed[ni_accidents_removed[\"v_man\"].notna()]\n"
      ]
    },
    {
      "cell_type": "code",
      "execution_count": null,
      "id": "8ea203ec",
      "metadata": {
        "id": "8ea203ec"
      },
      "outputs": [],
      "source": [
        "# ni_accidents_removed[\"v_loc\"] = ni_accidents_removed[\"v_loc\"].fillna(\"On main road\")\n",
        "ni_accidents_removed = ni_accidents_removed[ni_accidents_removed[\"v_loc\"].notna()]\n"
      ]
    },
    {
      "cell_type": "code",
      "execution_count": null,
      "id": "8b22f386",
      "metadata": {
        "id": "8b22f386"
      },
      "outputs": [],
      "source": [
        "# ni_accidents_removed[\"v_impact\"] = ni_accidents_removed[\"v_impact\"].fillna(\"Front\")\n",
        "ni_accidents_removed = ni_accidents_removed[ni_accidents_removed[\"v_impact\"].notna()]\n"
      ]
    },
    {
      "cell_type": "code",
      "execution_count": null,
      "id": "95ec1659",
      "metadata": {
        "id": "95ec1659"
      },
      "outputs": [],
      "source": [
        "ni_accidents_removed[\"v_sex\"] = ni_accidents_removed[\"v_sex\"].fillna(\"Male\")"
      ]
    },
    {
      "cell_type": "code",
      "execution_count": null,
      "id": "bff70c5b",
      "metadata": {
        "id": "bff70c5b"
      },
      "outputs": [],
      "source": [
        "# ni_accidents_removed[\"v_agegroup\"] = ni_accidents_removed[\"v_agegroup\"].fillna(\"25-34\")\n",
        "ni_accidents_removed = ni_accidents_removed[ni_accidents_removed[\"v_agegroup\"].notna()]\n"
      ]
    },
    {
      "cell_type": "code",
      "execution_count": null,
      "id": "97d30638",
      "metadata": {
        "id": "97d30638"
      },
      "outputs": [],
      "source": [
        "# ni_accidents_removed[\"v_hitr\"] = ni_accidents_removed[\"v_hitr\"].fillna(\"Other\")\n",
        "ni_accidents_removed = ni_accidents_removed[ni_accidents_removed[\"v_hitr\"].notna()]\n"
      ]
    },
    {
      "cell_type": "code",
      "execution_count": null,
      "id": "7cecfb85",
      "metadata": {
        "id": "7cecfb85"
      },
      "outputs": [],
      "source": [
        "ni_accidents_removed[\"c_class\"] = ni_accidents_removed[\"c_class\"].fillna(\"Driver\")"
      ]
    },
    {
      "cell_type": "code",
      "execution_count": null,
      "id": "c9e17d99",
      "metadata": {
        "id": "c9e17d99"
      },
      "outputs": [],
      "source": [
        "ni_accidents_removed[\"c_sex\"] = ni_accidents_removed[\"c_sex\"].fillna(\"Male\")"
      ]
    },
    {
      "cell_type": "code",
      "execution_count": null,
      "id": "a252106c",
      "metadata": {
        "id": "a252106c"
      },
      "outputs": [],
      "source": [
        "ni_accidents_removed[\"c_agegroup\"] = ni_accidents_removed[\"c_agegroup\"].fillna(\"25-34\")"
      ]
    },
    {
      "cell_type": "code",
      "execution_count": null,
      "id": "205a8199",
      "metadata": {
        "id": "205a8199"
      },
      "outputs": [],
      "source": [
        "ni_accidents_removed[\"c_sever\"] = ni_accidents_removed[\"c_sever\"].fillna(ni_accidents_removed[\"a_type\"])"
      ]
    },
    {
      "cell_type": "code",
      "execution_count": null,
      "id": "87b65dc7",
      "metadata": {
        "id": "87b65dc7"
      },
      "outputs": [],
      "source": [
        "ni_accidents_removed[\"c_vtype\"] = ni_accidents_removed[\"c_vtype\"].fillna(\"Car\")"
      ]
    },
    {
      "cell_type": "code",
      "execution_count": null,
      "id": "198969e9",
      "metadata": {
        "id": "198969e9"
      },
      "outputs": [],
      "source": [
        "# ni_accidents_removed[\"c_sever\"].head()\n"
      ]
    },
    {
      "cell_type": "markdown",
      "id": "88875191",
      "metadata": {
        "id": "88875191"
      },
      "source": [
        "## Anomalies"
      ]
    },
    {
      "cell_type": "code",
      "execution_count": null,
      "id": "2b9ac50f",
      "metadata": {
        "id": "2b9ac50f"
      },
      "outputs": [],
      "source": [
        "ni_accidents_removed[\"v_sex\"].replace(\"4\", \"Male\", inplace = True)"
      ]
    },
    {
      "cell_type": "code",
      "execution_count": null,
      "id": "7f4471a5",
      "metadata": {
        "id": "7f4471a5"
      },
      "outputs": [],
      "source": [
        "ni_accidents_removed[\"c_sex\"].replace(\"4\", \"Male\", inplace = True)"
      ]
    },
    {
      "cell_type": "markdown",
      "id": "a7572058",
      "metadata": {
        "id": "a7572058"
      },
      "source": [
        "## Chi-Square Test"
      ]
    },
    {
      "cell_type": "code",
      "execution_count": null,
      "id": "6b40bd47",
      "metadata": {
        "id": "6b40bd47"
      },
      "outputs": [],
      "source": [
        "chi_sq_df = ni_accidents_removed.copy()"
      ]
    },
    {
      "cell_type": "code",
      "execution_count": null,
      "id": "d6a9c0b2",
      "metadata": {
        "id": "d6a9c0b2"
      },
      "outputs": [],
      "source": [
        "chi_sq_df = chi_sq_df.drop([\"a_type\", \"general_injury_type\",\"address\",\"a_gd1\", \"a_gd2\",\"lat\", \"lon\", \"postcodes\",\"v_id\", \"c_id\",\"a_min\",\"c_sever\",\"location_infos\", \"a_year\", \"a_ref\"], axis = 1)"
      ]
    },
    {
      "cell_type": "code",
      "execution_count": null,
      "id": "42f27d5d",
      "metadata": {
        "id": "42f27d5d"
      },
      "outputs": [],
      "source": [
        "# @title Default title text\n",
        "# Build a function for chi_square\n",
        "def chi_square(column_name, response_variable = \"casualty_injury_type\", dataset =chi_sq_df, alpha = 0.05):\n",
        "    cross_tab = pd.crosstab(index = dataset[column_name],\n",
        "                                     columns = dataset[response_variable])\n",
        "    cross_tab = np.array(cross_tab)\n",
        "#     print(cross_tab)\n",
        "    stat, p, dof, expected = chi2_contingency(cross_tab)\n",
        "\n",
        "    # interpret p-value\n",
        "#     alpha = alpha\n",
        "    print(f\"p value is {p}\")\n",
        "    if p <= alpha:\n",
        "        print('H0 is rejected in favour of HA, hence casualty injury severity is dependent of it ')\n",
        "    else:\n",
        "        print('We are unable to reject H0 in favour of HA, hence casualty injury severity is independent of it ')\n"
      ]
    },
    {
      "cell_type": "code",
      "execution_count": null,
      "id": "27d155f5",
      "metadata": {
        "id": "27d155f5",
        "outputId": "6e31ec01-a76f-4376-f334-fd6a14da9933"
      },
      "outputs": [
        {
          "name": "stdout",
          "output_type": "stream",
          "text": [
            "Chi-square test on column a_District: \n",
            "p value is 1.0787555592508101e-116\n",
            "H0 is rejected in favour of HA, hence casualty injury severity is dependent of it \n",
            "____________________________________\n",
            "\n",
            "Chi-square test on column a_veh: \n",
            "p value is 0.0\n",
            "H0 is rejected in favour of HA, hence casualty injury severity is dependent of it \n",
            "____________________________________\n",
            "\n",
            "Chi-square test on column a_cas: \n",
            "p value is 2.9720198855753343e-17\n",
            "H0 is rejected in favour of HA, hence casualty injury severity is dependent of it \n",
            "____________________________________\n",
            "\n",
            "Chi-square test on column a_wkday: \n",
            "p value is 1.1897245838373144e-38\n",
            "H0 is rejected in favour of HA, hence casualty injury severity is dependent of it \n",
            "____________________________________\n",
            "\n",
            "Chi-square test on column a_day: \n",
            "p value is 0.0052303917182350505\n",
            "H0 is rejected in favour of HA, hence casualty injury severity is dependent of it \n",
            "____________________________________\n",
            "\n",
            "Chi-square test on column a_month: \n",
            "p value is 0.001276682628832742\n",
            "H0 is rejected in favour of HA, hence casualty injury severity is dependent of it \n",
            "____________________________________\n",
            "\n",
            "Chi-square test on column a_hour: \n",
            "p value is 8.434676201288713e-96\n",
            "H0 is rejected in favour of HA, hence casualty injury severity is dependent of it \n",
            "____________________________________\n",
            "\n",
            "Chi-square test on column a_ctype: \n",
            "p value is 4.909753425414349e-34\n",
            "H0 is rejected in favour of HA, hence casualty injury severity is dependent of it \n",
            "____________________________________\n",
            "\n",
            "Chi-square test on column a_speed: \n",
            "p value is 3.051639477502416e-208\n",
            "H0 is rejected in favour of HA, hence casualty injury severity is dependent of it \n",
            "____________________________________\n",
            "\n",
            "Chi-square test on column v_type: \n",
            "p value is 0.0\n",
            "H0 is rejected in favour of HA, hence casualty injury severity is dependent of it \n",
            "____________________________________\n",
            "\n",
            "Chi-square test on column v_tow: \n",
            "p value is 3.141466627125614e-16\n",
            "H0 is rejected in favour of HA, hence casualty injury severity is dependent of it \n",
            "____________________________________\n",
            "\n",
            "Chi-square test on column v_man: \n",
            "p value is 0.0\n",
            "H0 is rejected in favour of HA, hence casualty injury severity is dependent of it \n",
            "____________________________________\n",
            "\n",
            "Chi-square test on column v_loc: \n",
            "p value is 4.227589429619837e-22\n",
            "H0 is rejected in favour of HA, hence casualty injury severity is dependent of it \n",
            "____________________________________\n",
            "\n",
            "Chi-square test on column v_impact: \n",
            "p value is 4.333904343030149e-194\n",
            "H0 is rejected in favour of HA, hence casualty injury severity is dependent of it \n",
            "____________________________________\n",
            "\n",
            "Chi-square test on column v_sex: \n",
            "p value is 8.588064462011312e-59\n",
            "H0 is rejected in favour of HA, hence casualty injury severity is dependent of it \n",
            "____________________________________\n",
            "\n",
            "Chi-square test on column v_agegroup: \n",
            "p value is 3.670347568185867e-48\n",
            "H0 is rejected in favour of HA, hence casualty injury severity is dependent of it \n",
            "____________________________________\n",
            "\n",
            "Chi-square test on column v_hitr: \n",
            "p value is 0.011111162898168886\n",
            "H0 is rejected in favour of HA, hence casualty injury severity is dependent of it \n",
            "____________________________________\n",
            "\n",
            "Chi-square test on column c_class: \n",
            "p value is 0.0\n",
            "H0 is rejected in favour of HA, hence casualty injury severity is dependent of it \n",
            "____________________________________\n",
            "\n",
            "Chi-square test on column c_sex: \n",
            "p value is 9.152704353819142e-61\n",
            "H0 is rejected in favour of HA, hence casualty injury severity is dependent of it \n",
            "____________________________________\n",
            "\n",
            "Chi-square test on column c_agegroup: \n",
            "p value is 3.5002971503667623e-59\n",
            "H0 is rejected in favour of HA, hence casualty injury severity is dependent of it \n",
            "____________________________________\n",
            "\n",
            "Chi-square test on column c_school: \n",
            "p value is 0.0004781240745619082\n",
            "H0 is rejected in favour of HA, hence casualty injury severity is dependent of it \n",
            "____________________________________\n",
            "\n",
            "Chi-square test on column c_vtype: \n",
            "p value is 0.0\n",
            "H0 is rejected in favour of HA, hence casualty injury severity is dependent of it \n",
            "____________________________________\n",
            "\n",
            "Chi-square test on column postcodes_first4: \n",
            "p value is 8.840534225395811e-147\n",
            "H0 is rejected in favour of HA, hence casualty injury severity is dependent of it \n",
            "____________________________________\n",
            "\n",
            "Chi-square test on column city_splited: \n",
            "p value is 4.585855060610204e-131\n",
            "H0 is rejected in favour of HA, hence casualty injury severity is dependent of it \n",
            "____________________________________\n",
            "\n",
            "Chi-square test on column casualty_injury_type: \n",
            "p value is 0.0\n",
            "H0 is rejected in favour of HA, hence casualty injury severity is dependent of it \n",
            "____________________________________\n",
            "\n",
            "Chi-square test on column location_route: \n",
            "p value is 6.5052634881916935e-12\n",
            "H0 is rejected in favour of HA, hence casualty injury severity is dependent of it \n",
            "____________________________________\n",
            "\n"
          ]
        }
      ],
      "source": [
        "\n",
        "for var in chi_sq_df.columns.values.tolist()[:-8]:\n",
        "    print(f\"Chi-square test on column {var}: \")\n",
        "    chi_square(var)\n",
        "    print(\"____________________________________\\n\")\n"
      ]
    },
    {
      "cell_type": "code",
      "execution_count": null,
      "id": "e779f52f",
      "metadata": {
        "id": "e779f52f"
      },
      "outputs": [],
      "source": [
        "\n"
      ]
    },
    {
      "cell_type": "code",
      "execution_count": null,
      "id": "bf5afccd",
      "metadata": {
        "id": "bf5afccd"
      },
      "outputs": [],
      "source": []
    }
  ],
  "metadata": {
    "kernelspec": {
      "display_name": "Python 3 (ipykernel)",
      "language": "python",
      "name": "python3"
    },
    "language_info": {
      "codemirror_mode": {
        "name": "ipython",
        "version": 3
      },
      "file_extension": ".py",
      "mimetype": "text/x-python",
      "name": "python",
      "nbconvert_exporter": "python",
      "pygments_lexer": "ipython3",
      "version": "3.11.4"
    },
    "colab": {
      "provenance": [],
      "collapsed_sections": [
        "5f4b8eee",
        "02e1c50e",
        "f62d99f5"
      ]
    }
  },
  "nbformat": 4,
  "nbformat_minor": 5
}